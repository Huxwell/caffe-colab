{
  "nbformat": 4,
  "nbformat_minor": 0,
  "metadata": {
    "colab": {
      "name": "tensorflow-from-source",
      "provenance": [],
      "collapsed_sections": [],
      "toc_visible": true,
      "authorship_tag": "ABX9TyPn9WgdJp8FbbRvZHvWCgJQ",
      "include_colab_link": true
    },
    "kernelspec": {
      "name": "python3",
      "display_name": "Python 3"
    },
    "language_info": {
      "name": "python"
    },
    "accelerator": "GPU"
  },
  "cells": [
    {
      "cell_type": "markdown",
      "metadata": {
        "id": "view-in-github",
        "colab_type": "text"
      },
      "source": [
        "<a href=\"https://colab.research.google.com/github/Huxwell/caffe-tf-torch-darknet-onnx/blob/main/tensorflow_from_source.ipynb\" target=\"_parent\"><img src=\"https://colab.research.google.com/assets/colab-badge.svg\" alt=\"Open In Colab\"/></a>"
      ]
    },
    {
      "cell_type": "markdown",
      "metadata": {
        "id": "wGNI69siVrb0"
      },
      "source": [
        "#Intro "
      ]
    },
    {
      "cell_type": "markdown",
      "metadata": {
        "id": "ORZwfunwVqDu"
      },
      "source": [
        "The point of this notebook is installing tensorboard from scratch, from source code. While build manually instead of just apt-get or pip install? To learn more about the framework itself and how to modify it easily in the future.\n",
        "\n",
        "Starting from [official tutorial](https://www.tensorflow.org/install/source)."
      ]
    },
    {
      "cell_type": "code",
      "metadata": {
        "id": "sSHFCNRUWIVi"
      },
      "source": [
        "!pip uninstall tensorflow -y"
      ],
      "execution_count": null,
      "outputs": []
    },
    {
      "cell_type": "code",
      "metadata": {
        "id": "H5RHT9M_Uzza"
      },
      "source": [
        "# himport tensorflow as tf\n",
        "# print(tf.__version__)"
      ],
      "execution_count": null,
      "outputs": []
    },
    {
      "cell_type": "code",
      "metadata": {
        "id": "qvqotmJBzpYz"
      },
      "source": [
        "!git clone https://github.com/tensorflow/tensorflow.git"
      ],
      "execution_count": null,
      "outputs": []
    },
    {
      "cell_type": "code",
      "metadata": {
        "id": "qMeALEGf0W7m"
      },
      "source": [
        "%cd tensorflow\n",
        "!ls"
      ],
      "execution_count": null,
      "outputs": []
    },
    {
      "cell_type": "code",
      "metadata": {
        "id": "uSFFrfs3zzro"
      },
      "source": [
        "# !./configure"
      ],
      "execution_count": null,
      "outputs": []
    },
    {
      "cell_type": "code",
      "metadata": {
        "id": "uaGgZiXeYZyE"
      },
      "source": [
        ""
      ],
      "execution_count": null,
      "outputs": []
    },
    {
      "cell_type": "markdown",
      "metadata": {
        "id": "N1-fy3Ju0tLE"
      },
      "source": [
        "# Install bazel\n",
        "https://docs.bazel.build/versions/master/install-ubuntu.html"
      ]
    },
    {
      "cell_type": "code",
      "metadata": {
        "id": "JoXFKaqf0wNv"
      },
      "source": [
        "!sudo apt install apt-transport-https curl gnupg\n",
        "!curl -fsSL https://bazel.build/bazel-release.pub.gpg | gpg --dearmor > bazel.gpg\n",
        "!sudo mv bazel.gpg /etc/apt/trusted.gpg.d/\n",
        "!echo \"deb [arch=amd64] https://storage.googleapis.com/bazel-apt stable jdk1.8\" | sudo tee /etc/apt/sources.list.d/bazel.list\n"
      ],
      "execution_count": null,
      "outputs": []
    },
    {
      "cell_type": "code",
      "metadata": {
        "id": "O_zn9jAJ078X"
      },
      "source": [
        "!sudo apt update && sudo apt install bazel\n"
      ],
      "execution_count": null,
      "outputs": []
    },
    {
      "cell_type": "code",
      "metadata": {
        "id": "B1ZUbtgN1BH5"
      },
      "source": [
        "# !sudo apt update && sudo apt full-upgrade"
      ],
      "execution_count": null,
      "outputs": []
    },
    {
      "cell_type": "code",
      "metadata": {
        "id": "6Vjk9NvE660l"
      },
      "source": [
        "# !sudo apt full-upgrade"
      ],
      "execution_count": null,
      "outputs": []
    },
    {
      "cell_type": "code",
      "metadata": {
        "id": "h2w3ZYhhRS0Q"
      },
      "source": [
        "!sudo apt-get install bazel-3.7.2"
      ],
      "execution_count": null,
      "outputs": []
    },
    {
      "cell_type": "code",
      "metadata": {
        "id": "GBOCz9O1trLU"
      },
      "source": [
        "!bazel build --config=cuda [--config=option] //tensorflow/tools/pip_package:build_pip_package\n"
      ],
      "execution_count": null,
      "outputs": []
    },
    {
      "cell_type": "code",
      "metadata": {
        "id": "4ouRW0KP1HFp"
      },
      "source": [
        "!./configure"
      ],
      "execution_count": null,
      "outputs": []
    }
  ]
}