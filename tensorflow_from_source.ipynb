{
  "nbformat": 4,
  "nbformat_minor": 0,
  "metadata": {
    "colab": {
      "name": "tensorflow-from-source",
      "provenance": [],
      "authorship_tag": "ABX9TyOTjTPfjmuHMcDDvrWIM0Sl",
      "include_colab_link": true
    },
    "kernelspec": {
      "name": "python3",
      "display_name": "Python 3"
    },
    "language_info": {
      "name": "python"
    },
    "accelerator": "GPU"
  },
  "cells": [
    {
      "cell_type": "markdown",
      "metadata": {
        "id": "view-in-github",
        "colab_type": "text"
      },
      "source": [
        "<a href=\"https://colab.research.google.com/github/Huxwell/caffe-colab/blob/main/tensorflow_from_source.ipynb\" target=\"_parent\"><img src=\"https://colab.research.google.com/assets/colab-badge.svg\" alt=\"Open In Colab\"/></a>"
      ]
    },
    {
      "cell_type": "markdown",
      "metadata": {
        "id": "wGNI69siVrb0"
      },
      "source": [
        "#Intro "
      ]
    },
    {
      "cell_type": "markdown",
      "metadata": {
        "id": "ORZwfunwVqDu"
      },
      "source": [
        "The point of this notebook is installing tensorboard from scratch, from source code. While build manually instead of just apt-get or pip install? To learn more about the framework itself and how to modify it easily in the future."
      ]
    },
    {
      "cell_type": "code",
      "metadata": {
        "id": "sSHFCNRUWIVi"
      },
      "source": [
        "!pip uninstall tensorflow -y"
      ],
      "execution_count": null,
      "outputs": []
    },
    {
      "cell_type": "code",
      "metadata": {
        "id": "H5RHT9M_Uzza"
      },
      "source": [
        "import tensorflow as tf\n",
        "print(tf.__version__)"
      ],
      "execution_count": null,
      "outputs": []
    }
  ]
}