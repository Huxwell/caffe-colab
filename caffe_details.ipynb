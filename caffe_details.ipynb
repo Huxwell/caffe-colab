{
  "nbformat": 4,
  "nbformat_minor": 0,
  "metadata": {
    "colab": {
      "name": "caffe-details.ipynb",
      "provenance": [],
      "collapsed_sections": [],
      "toc_visible": true,
      "authorship_tag": "ABX9TyOUeUJiGZEIoe7gv/IrY4bI",
      "include_colab_link": true
    },
    "kernelspec": {
      "display_name": "Python 3",
      "name": "python3"
    },
    "language_info": {
      "name": "python"
    },
    "accelerator": "GPU"
  },
  "cells": [
    {
      "cell_type": "markdown",
      "metadata": {
        "id": "view-in-github",
        "colab_type": "text"
      },
      "source": [
        "<a href=\"https://colab.research.google.com/github/Huxwell/caffe-colab/blob/main/caffe_details.ipynb\" target=\"_parent\"><img src=\"https://colab.research.google.com/assets/colab-badge.svg\" alt=\"Open In Colab\"/></a>"
      ]
    },
    {
      "cell_type": "markdown",
      "metadata": {
        "id": "GkzmJGdoDPJ3"
      },
      "source": [
        "# Just checking if versioning works ok with colab->github"
      ]
    },
    {
      "cell_type": "code",
      "metadata": {
        "id": "jF8h6vXG91me"
      },
      "source": [
        ""
      ],
      "execution_count": null,
      "outputs": []
    },
    {
      "cell_type": "code",
      "metadata": {
        "id": "tbm0gAH3Bcvp"
      },
      "source": [
        ""
      ],
      "execution_count": null,
      "outputs": []
    },
    {
      "cell_type": "markdown",
      "metadata": {
        "id": "DvD9LE4zBdLt"
      },
      "source": [
        "## Runtime -> Change Runetime type -> Hardware acccelarator -> GPU"
      ]
    },
    {
      "cell_type": "markdown",
      "metadata": {
        "id": "nHnASTWbDzZV"
      },
      "source": [
        "## It seems that smth if wrong with versioning. One commit disappeared."
      ]
    },
    {
      "cell_type": "code",
      "metadata": {
        "id": "IGJ7L2cw80tG"
      },
      "source": [
        "# !sudo apt build-dep caffe-cuda "
      ],
      "execution_count": null,
      "outputs": []
    },
    {
      "cell_type": "code",
      "metadata": {
        "id": "nVVCDQoSBnFU"
      },
      "source": [
        "!ls"
      ],
      "execution_count": null,
      "outputs": []
    },
    {
      "cell_type": "code",
      "metadata": {
        "id": "vCy0jVs6Bo7G"
      },
      "source": [
        "!git clone https://github.com/BVLC/caffe.git"
      ],
      "execution_count": null,
      "outputs": []
    },
    {
      "cell_type": "code",
      "metadata": {
        "id": "GNe9kNEnFyyC"
      },
      "source": [
        "!sudo apt-cache search gflags"
      ],
      "execution_count": null,
      "outputs": []
    },
    {
      "cell_type": "code",
      "metadata": {
        "id": "1lvs886K_nrG"
      },
      "source": [
        "!sudo apt-cache search libhdf5-"
      ],
      "execution_count": null,
      "outputs": []
    },
    {
      "cell_type": "code",
      "metadata": {
        "id": "c50V1_hRAtcF"
      },
      "source": [
        "# !wget https://developer.nvidia.com/compute/cuda/9.2/Prod/local_installers/cuda-repo-ubuntu1604-9-2-local_9.2.88-1_amd64 -O cuda-repo-ubuntu1604-9-2-local_9.2.88-1_amd64.deb\n",
        "# !dpkg -i cuda-repo-ubuntu1604-9-2-local_9.2.88-1_amd64.deb\n",
        "# !apt-key add /var/cuda-repo-9-2-local/7fa2af80.pub\n",
        "# !apt-get update\n",
        "# !apt-get install cuda"
      ],
      "execution_count": null,
      "outputs": []
    },
    {
      "cell_type": "code",
      "metadata": {
        "id": "RnCiBAJ2BRA1"
      },
      "source": [
        "# !sudo apt --fix-broken install"
      ],
      "execution_count": null,
      "outputs": []
    },
    {
      "cell_type": "code",
      "metadata": {
        "id": "iDt9JEiq5qHd"
      },
      "source": [
        "!sudo apt-get install libgflags2.2 \n",
        "!sudo apt-get install libgflags-dev\n",
        "!sudo apt-get install libgoogle-glog-dev\n",
        "# !sudo apt-get install libhdf5-10 - cannot find anyway\n",
        "!sudo apt-get install libhdf5-100\n",
        "!sudo apt-get install libhdf5-serial-dev\n",
        "!sudo apt-get install libhdf5-dev\n",
        "# !sudo apt-get install libhdf5-cpp-11\n",
        "!sudo apt-get install libhdf5-cpp-100\n",
        "!sudo apt-get install libprotobuf-dev protobuf-compiler"
      ],
      "execution_count": null,
      "outputs": []
    },
    {
      "cell_type": "code",
      "metadata": {
        "id": "4f4D2eDh8O1g"
      },
      "source": [
        "!find /usr -iname \"*hdf5.so\"\n",
        "# got: /usr/lib/x86_64-linux-gnu/hdf5/serial\n",
        "!find /usr -iname \"*hdf5_hl.so\""
      ],
      "execution_count": null,
      "outputs": []
    },
    {
      "cell_type": "code",
      "metadata": {
        "id": "9D6d7fAR77NI"
      },
      "source": [
        "!ln -s /usr/lib/x86_64-linux-gnu/libhdf5_serial.so /usr/lib/x86_64-linux-gnu/libhdf5.so\n",
        "!ln -s /usr/lib/x86_64-linux-gnu/libhdf5_serial_hl.so /usr/lib/x86_64-linux-gnu/libhdf5_hl.so"
      ],
      "execution_count": null,
      "outputs": []
    },
    {
      "cell_type": "code",
      "metadata": {
        "id": "maHMI9v4-VI6"
      },
      "source": [
        "#!find /usr -iname \"*hdf5.h*\"\n",
        "# got:\n",
        "# /usr/include/hdf5/serial/hdf5.h \n",
        "# /usr/include/opencv2/flann/hdf5.h\n",
        "# Let's try the first one.\n",
        "%env CPATH=\"/usr/include/hdf5/serial/\"\n",
        "#fatal error: hdf5.h: No such file or directory"
      ],
      "execution_count": null,
      "outputs": []
    },
    {
      "cell_type": "code",
      "metadata": {
        "id": "Fna6ZQCr_gns"
      },
      "source": [
        "!sudo apt-get install libleveldb-dev"
      ],
      "execution_count": null,
      "outputs": []
    },
    {
      "cell_type": "code",
      "metadata": {
        "id": "Hw_lDn_BA7Bv"
      },
      "source": [
        "!sudo apt-get install libgflags-dev libgoogle-glog-dev liblmdb-dev"
      ],
      "execution_count": null,
      "outputs": []
    },
    {
      "cell_type": "code",
      "metadata": {
        "id": "1WehWnGHBw1s"
      },
      "source": [
        "%cd caffe\n",
        "!ls\n",
        "!make clean\n",
        "!cp Makefile.config.example Makefile.config\n",
        "!sed -i 's/-gencode arch=compute_20/#-gencode arch=compute_20/' Makefile.config #old cuda versions won't compile \n",
        "!sed -i 's/\\/usr\\/local\\/include/\\/usr\\/local\\/include \\/usr\\/include\\/hdf5\\/serial\\//'  Makefile.config\n",
        "!make clean\n",
        "!echo $CPATH\n",
        "!make all #-j"
      ],
      "execution_count": null,
      "outputs": []
    },
    {
      "cell_type": "code",
      "metadata": {
        "id": "3XZZ0GMUB47s"
      },
      "source": [
        "!make all"
      ],
      "execution_count": null,
      "outputs": []
    },
    {
      "cell_type": "code",
      "metadata": {
        "id": "QnPj5dZaE3YA"
      },
      "source": [
        "!sudo apt-get install libsnappy-dev"
      ],
      "execution_count": null,
      "outputs": []
    },
    {
      "cell_type": "code",
      "metadata": {
        "id": "VrNhAFKr_b_q"
      },
      "source": [
        "!cat /etc/apt/sources.list"
      ],
      "execution_count": null,
      "outputs": []
    },
    {
      "cell_type": "code",
      "metadata": {
        "id": "SLasye2NAoed"
      },
      "source": [
        "!sed -i.bak 's/# deb-src/deb-src/g' /etc/apt/sources.list"
      ],
      "execution_count": null,
      "outputs": []
    },
    {
      "cell_type": "code",
      "metadata": {
        "id": "4aON93Z8A1WS"
      },
      "source": [
        "!sudo apt-get update"
      ],
      "execution_count": null,
      "outputs": []
    }
  ]
}